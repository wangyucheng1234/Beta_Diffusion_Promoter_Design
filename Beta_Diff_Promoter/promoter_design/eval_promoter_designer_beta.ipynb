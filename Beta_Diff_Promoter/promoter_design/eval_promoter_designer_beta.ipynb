{
 "cells": [
  {
   "cell_type": "markdown",
   "metadata": {},
   "source": [
    "##### Promoter Designer Evaluation"
   ]
  },
  {
   "cell_type": "code",
   "execution_count": null,
   "metadata": {},
   "outputs": [],
   "source": [
    "import torch\n",
    "import torch.nn as nn\n",
    "import torch.nn.functional as F\n",
    "from torch.utils.data import DataLoader, Dataset\n",
    "from torch.nn.functional import one_hot\n",
    "\n",
    "from matplotlib import pyplot as plt\n",
    "%matplotlib inline\n",
    "\n",
    "import rpy2\n",
    "import functools\n",
    "import numpy as np\n",
    "import pandas as pd\n",
    "import pyBigWig\n",
    "import tabix\n",
    "\n",
    "import selene_sdk\n",
    "from selene_sdk.utils import NonStrandSpecific\n",
    "from selene_sdk.targets import Target\n",
    "\n",
    "import sys\n",
    "sys.path.append(\"../\")\n",
    "sys.path.append(\"../external\")\n",
    "\n",
    "from ddsm import * \n",
    "from sei import *\n",
    "from selene_utils import *\n"
   ]
  },
  {
   "cell_type": "code",
   "execution_count": 38,
   "metadata": {},
   "outputs": [],
   "source": [
    "class ModelParameters:\n",
    "    seifeatures_file = '../data/promoter_design/target.sei.names'\n",
    "    seimodel_file = '../data/promoter_design/best.sei.model.pth.tar'\n",
    "\n",
    "    ref_file = '../data/promoter_design/Homo_sapiens.GRCh38.dna.primary_assembly.fa'\n",
    "    ref_file_mmap = '../data/promoter_design/Homo_sapiens.GRCh38.dna.primary_assembly.fa.mmap'\n",
    "    tsses_file = '../data/promoter_design/FANTOM_CAT.lv3_robust.tss.sortedby_fantomcage.hg38.v4.tsv'\n",
    "\n",
    "    fantom_files = [\n",
    "                    \"../data/promoter_design/agg.plus.bw.bedgraph.bw\",\n",
    "                    \"../data/promoter_design/agg.minus.bw.bedgraph.bw\"\n",
    "                    ]\n",
    "\n",
    "    fantom_blacklist_files = [\n",
    "         \"../data/promoter_design/fantom.blacklist8.plus.bed.gz\",\n",
    "         \"../data/promoter_design/fantom.blacklist8.minus.bed.gz\"\n",
    "        ]\n",
    "\n",
    "    device = 'cuda'\n",
    "    batch_size = 16\n",
    "    num_workers = 4\n",
    "    \n",
    "    num_epochs = 200\n",
    "\n",
    "    lr = 5e-4\n",
    "\n",
    "    #Beta Diffusion Parameters:\n",
    "    eta = 10000.0\n",
    "    sigmoid_start = 10.0\n",
    "    sigmoid_end = -13.0\n",
    "    sigmoid_power = 0.2\n",
    "    Scale = 0.5\n",
    "    Shift = 0.4\n",
    "    KLUB_Scale = 0.5\n",
    "    KLUB_Shift =0.4\n",
    "    lossType = \"KLUB\"\n",
    "    batch_size = 256    \n",
    "    normalize_output = True"
   ]
  },
  {
   "cell_type": "code",
   "execution_count": 3,
   "metadata": {},
   "outputs": [],
   "source": [
    "torch.set_default_dtype(torch.float32)"
   ]
  },
  {
   "cell_type": "code",
   "execution_count": 4,
   "metadata": {},
   "outputs": [],
   "source": [
    "class GenomicSignalFeatures(Target):\n",
    "    \"\"\"\n",
    "    #Accept a list of cooler files as input.\n",
    "    \"\"\"\n",
    "    def __init__(self, input_paths, features, shape, blacklists=None, blacklists_indices=None, \n",
    "        replacement_indices=None, replacement_scaling_factors=None):\n",
    "        \"\"\"\n",
    "        Constructs a new `GenomicFeatures` object.\n",
    "        \"\"\"\n",
    "        self.input_paths = input_paths\n",
    "        self.initialized = False\n",
    "        self.blacklists_file = blacklists\n",
    "        self.blacklists_indices = blacklists_indices\n",
    "        self.replacement_indices = replacement_indices\n",
    "        self.replacement_scaling_factors = replacement_scaling_factors\n",
    "\n",
    "        self.n_features = len(features)\n",
    "        self.feature_index_dict = dict(\n",
    "            [(feat, index) for index, feat in enumerate(features)])\n",
    "        self.shape = (len(input_paths), *shape)\n",
    "\n",
    "    def get_feature_data(self, chrom, start, end, nan_as_zero=True, feature_indices=None):\n",
    "        if not self.initialized:\n",
    "            self.data = [pyBigWig.open(path) for path in self.input_paths]\n",
    "            if self.blacklists_file is not None:\n",
    "                self.blacklists = [tabix.open(blacklist) for blacklist in self.blacklists_file]\n",
    "            self.initialized=True\n",
    "\n",
    "        if feature_indices is None:\n",
    "            feature_indices = np.arange(len(self.data))\n",
    "\n",
    "        wigmat = np.zeros((len(feature_indices), end - start), dtype=np.float32)\n",
    "        for i in feature_indices:\n",
    "            try:\n",
    "                wigmat[i, :] = self.data[i].values(chrom, start, end, numpy=True)\n",
    "            except:\n",
    "                print(chrom, start, end, self.input_paths[i], flush=True)\n",
    "                raise\n",
    "        \n",
    "        if self.blacklists is not None:\n",
    "            if self.replacement_indices is None:\n",
    "                if self.blacklists_indices is not None:\n",
    "                    for blacklist, blacklist_indices in zip(self.blacklists, self.blacklists_indices):\n",
    "                        for _, s, e in blacklist.query(chrom, start, end):\n",
    "                            wigmat[blacklist_indices, np.fmax(int(s)-start,0): int(e)-start] = 0\n",
    "                else:\n",
    "                    for blacklist in self.blacklists:\n",
    "                        for _, s, e in blacklist.query(chrom, start, end):\n",
    "                            wigmat[:, np.fmax(int(s)-start,0): int(e)-start] = 0\n",
    "            else:\n",
    "                for blacklist, blacklist_indices, replacement_indices, replacement_scaling_factor in zip(self.blacklists, self.blacklists_indices, self.replacement_indices, self.replacement_scaling_factors):\n",
    "                    for _, s, e in blacklist.query(chrom, start, end):\n",
    "                        wigmat[blacklist_indices, np.fmax(int(s)-start,0): int(e)-start] = wigmat[replacement_indices, np.fmax(int(s)-start,0): int(e)-start] * replacement_scaling_factor\n",
    "\n",
    "        if nan_as_zero:\n",
    "            wigmat[np.isnan(wigmat)]=0\n",
    "        return wigmat\n",
    "\n",
    "    \n",
    "class TSSDatasetS(Dataset):\n",
    "    def __init__(self, config, seqlength=1024, split=\"train\", n_tsses=100000, rand_offset=0):\n",
    "        self.shuffle = False\n",
    "\n",
    "        self.genome = MemmapGenome(\n",
    "            input_path=config.ref_file,\n",
    "            memmapfile=config.ref_file_mmap,\n",
    "            blacklist_regions='hg38'\n",
    "        )\n",
    "        self.tfeature = GenomicSignalFeatures(\n",
    "            config.fantom_files,\n",
    "            ['cage_plus', 'cage_minus'],\n",
    "            (2000,),\n",
    "            config.fantom_blacklist_files\n",
    "        )\n",
    "\n",
    "        self.tsses = pd.read_table(config.tsses_file, sep='\\t')\n",
    "        self.tsses = self.tsses.iloc[:n_tsses, :]\n",
    "\n",
    "        self.chr_lens = self.genome.get_chr_lens()\n",
    "        self.split = split\n",
    "        if split == \"train\":\n",
    "            self.tsses = self.tsses.iloc[~np.isin(self.tsses['chr'].values, ['chr8', 'chr9', 'chr10'])]\n",
    "        elif split == \"valid\":\n",
    "            self.tsses = self.tsses.iloc[np.isin(self.tsses['chr'].values, ['chr10'])]\n",
    "        elif split == \"test\":\n",
    "            self.tsses = self.tsses.iloc[np.isin(self.tsses['chr'].values, ['chr8', 'chr9'])]\n",
    "        else:\n",
    "            raise ValueError\n",
    "        self.rand_offset = rand_offset\n",
    "        self.seqlength = seqlength\n",
    "\n",
    "    def __len__(self):\n",
    "        return self.tsses.shape[0]\n",
    "\n",
    "    def __getitem__(self, tssi):\n",
    "        chrm, pos, strand = self.tsses['chr'].values[tssi], self.tsses['TSS'].values[tssi], self.tsses['strand'].values[\n",
    "            tssi]\n",
    "        offset = 1 if strand == '-' else 0\n",
    "\n",
    "        offset = offset + np.random.randint(-self.rand_offset, self.rand_offset + 1)\n",
    "        seq = self.genome.get_encoding_from_coords(chrm, pos - int(self.seqlength / 2) + offset,\n",
    "                                                   pos + int(self.seqlength / 2) + offset, strand)\n",
    "\n",
    "        signal = self.tfeature.get_feature_data(chrm, pos - int(self.seqlength / 2) + offset,\n",
    "                                                pos + int(self.seqlength / 2) + offset)\n",
    "        if strand == '-':\n",
    "            signal = signal[::-1, ::-1]\n",
    "        return np.concatenate([seq, signal.T], axis=-1).astype(np.float32)\n",
    "\n",
    "    def reset(self):\n",
    "        np.random.seed(0)"
   ]
  },
  {
   "cell_type": "code",
   "execution_count": 92,
   "metadata": {},
   "outputs": [],
   "source": [
    "class Dense(nn.Module):\n",
    "    \"\"\"\n",
    "    A fully connected layer that reshapes outputs to feature maps.\n",
    "    \"\"\"\n",
    "    def __init__(self, input_dim, output_dim):\n",
    "        super().__init__()\n",
    "        self.dense = nn.Linear(input_dim, output_dim)\n",
    "    def forward(self, x):\n",
    "        return self.dense(x)[...]\n",
    "\n",
    "    \n",
    "class ScoreNet(nn.Module):\n",
    "  \"\"\"A time-dependent score-based model built upon U-Net architecture.\"\"\"\n",
    "\n",
    "  def __init__(self, embed_dim=256, time_dependent_weights=None, time_step=0.01):\n",
    "    \"\"\"\n",
    "    Initialize a time-dependent score-based network.\n",
    "    Args:\n",
    "      marginal_prob_std: A function that takes time t and gives the standard\n",
    "      deviation of the perturbation kernel p_{0t}(x(t) | x(0)).\n",
    "      channels: The number of channels for feature maps of each resolution.\n",
    "      embed_dim: The dimensionality of Gaussian random feature embeddings.\n",
    "    \"\"\"\n",
    "    super().__init__()\n",
    "    # Gaussian random feature embedding layer for time\n",
    "    self.embed = nn.Sequential(GaussianFourierProjection(embed_dim=embed_dim),\n",
    "         nn.Linear(embed_dim, embed_dim))\n",
    "    \n",
    "    n=256\n",
    "    self.linear = nn.Conv1d(5, n, kernel_size=9, padding=4)\n",
    "    self.blocks = nn.ModuleList([nn.Conv1d(n, n, kernel_size=9, padding=4),\n",
    "                nn.Conv1d(n, n, kernel_size=9, padding=4),\n",
    "                nn.Conv1d(n, n, kernel_size=9, dilation=4, padding=16),\n",
    "                nn.Conv1d(n, n, kernel_size=9, dilation=16, padding=64),\n",
    "                nn.Conv1d(n, n, kernel_size=9, dilation=64, padding=256),\n",
    "                nn.Conv1d(n, n, kernel_size=9, padding=4),\n",
    "                nn.Conv1d(n, n, kernel_size=9, padding=4),\n",
    "                nn.Conv1d(n, n, kernel_size=9, dilation=4, padding=16),\n",
    "                nn.Conv1d(n, n, kernel_size=9, dilation=16, padding=64),\n",
    "                nn.Conv1d(n, n, kernel_size=9, dilation=64, padding=256),\n",
    "                nn.Conv1d(n, n, kernel_size=9, padding=4),\n",
    "                nn.Conv1d(n, n, kernel_size=9, padding=4),\n",
    "                nn.Conv1d(n, n, kernel_size=9, dilation=4, padding=16),\n",
    "                nn.Conv1d(n, n, kernel_size=9, dilation=16, padding=64),\n",
    "                nn.Conv1d(n, n, kernel_size=9, dilation=64, padding=256),\n",
    "                nn.Conv1d(n, n, kernel_size=9, padding=4),\n",
    "                nn.Conv1d(n, n, kernel_size=9, padding=4),\n",
    "                nn.Conv1d(n, n, kernel_size=9, dilation=4, padding=16),\n",
    "                nn.Conv1d(n, n, kernel_size=9, dilation=16, padding=64),\n",
    "                nn.Conv1d(n, n, kernel_size=9, dilation=64, padding=256)])\n",
    "\n",
    "\n",
    "\n",
    "    self.denses = nn.ModuleList([Dense(embed_dim, n) for _ in range(20)])\n",
    "    self.norms = nn.ModuleList([nn.GroupNorm(1,n) for _ in range(20)])\n",
    "\n",
    "    # The swish activation function\n",
    "    self.act = lambda x: x * torch.sigmoid(x)\n",
    "    self.relu = nn.ReLU()\n",
    "    self.softplus = nn.Softplus()\n",
    "    self.scale = nn.Parameter(torch.ones(1))\n",
    "    self.final =  nn.Sequential(nn.Conv1d(n, n, kernel_size=1),\n",
    "                                nn.GELU(),\n",
    "                                nn.Conv1d(n, 4, kernel_size=1))\n",
    "    self.register_buffer(\"time_dependent_weights\", time_dependent_weights)\n",
    "    self.time_step = time_step\n",
    "    \n",
    "  def forward(self, x, t, t_ind=None, return_a=False):\n",
    "    # Obtain the Gaussian random feature embedding for t\n",
    "    # embed: [N, embed_dim]\n",
    "    embed = self.act(self.embed(t/2))\n",
    "\n",
    "    # Encoding path\n",
    "    # x: NLC -> NCL\n",
    "    out = x.permute(0, 2, 1)\n",
    "    out = self.act(self.linear(out))\n",
    "    \n",
    "    #pos encoding\n",
    "    for block, dense, norm in zip(self.blocks, self.denses, self.norms):\n",
    "        h = self.act(block(norm(out + dense(embed)[:,:,None])))\n",
    "        if h.shape == out.shape:\n",
    "            out = h + out\n",
    "        else:\n",
    "            out = h\n",
    "\n",
    "    \n",
    "    out = self.final(out)\n",
    "    out = out.permute(0, 2, 1)\n",
    "    if self.time_dependent_weights is not None:\n",
    "        t_step = (t/self.time_step)-1\n",
    "        w0 = self.time_dependent_weights[t_step.long()]\n",
    "        w1 = self.time_dependent_weights[torch.clip(t_step+1,max=len(self.time_dependent_weights)-1).long()]\n",
    "        out = out * (w0 + (t_step-t_step.floor())*(w1-w0))[:,None,None]\n",
    "\n",
    "    out = out - out.mean(axis=-1, keepdims=True)\n",
    "    return out\n",
    "\n",
    "class BetaDiffPrecond(torch.nn.Module):\n",
    "#class BetaDiffusionPrecond(torch.nn.Module):\n",
    "    def __init__(self,\n",
    "        # img_resolution,                 # Image resolution.\n",
    "        # img_channels,                   # Number of color channels.\n",
    "        # label_dim       = 0,            # Number of class labels, 0 = unconditional.\n",
    "        use_fp16        = False,        # Execute the underlying model at FP16 precision?\n",
    "        M               = 1000,         # Original number of timesteps in the DDPM formulation.\n",
    "        epsilon_t       = 1e-5,         # Minimum t-value used during training.\n",
    "        #model_type      = 'SongUNet',   # Class name of the underlying model.\n",
    "        \n",
    "        model_type      = 'None',   # Class name of the underlying model.\n",
    "        **model_kwargs,                 # Keyword arguments for the underlying model.\n",
    "    ):\n",
    "        super().__init__()\n",
    "        # self.img_resolution = img_resolution\n",
    "        # self.img_channels = img_channels\n",
    "        # self.label_dim = label_dim\n",
    "        self.use_fp16 = use_fp16\n",
    "        self.M = M\n",
    "        self.epsilon_t = epsilon_t\n",
    "        # self.model = globals()[model_type](img_resolution=img_resolution, in_channels=img_channels, out_channels=img_channels, label_dim=label_dim, **model_kwargs)\n",
    "        self.model = ScoreNet()\n",
    "\n",
    "    def forward(self, x, logit_alpha, class_labels=None, force_fp32=False, **model_kwargs):\n",
    "        x = x.to(torch.float32)\n",
    "        logit_alpha = logit_alpha.to(torch.float32).reshape(-1, 1, 1)\n",
    "        # class_labels = None if self.label_dim == 0 else torch.zeros([1, self.label_dim], device=x.device) if class_labels is None else class_labels.to(torch.float32).reshape(-1, self.label_dim)\n",
    "        #dtype = torch.float16 if (self.use_fp16 and not force_fp32 and x.device.type == 'cuda') else torch.float32\n",
    "        dtype = torch.float32\n",
    "        c_skip = 1\n",
    "        c_out = 1\n",
    "        #c_out = -sigma\n",
    "        #c_in = 1 / (sigma ** 2 + 1).sqrt()\n",
    "        \n",
    "        c_noise = -logit_alpha/8.0\n",
    "\n",
    "        #F_x = self.model((c_in * x).to(dtype), c_noise.flatten(), class_labels=class_labels, **model_kwargs)\n",
    "        # F_x = self.model( x.to(dtype), c_noise.flatten(), class_labels=class_labels, **model_kwargs)\n",
    "        #Check correctness\n",
    "        # print(\"c_noise\", c_noise.shape)\n",
    "        F_x = self.model(torch.cat([x, class_labels], -1), c_noise[:, 0, 0])\n",
    "        assert F_x.dtype == dtype\n",
    "        #D_x = c_skip * x + c_out * F_x.to(torch.float32)\n",
    "        #D_x = F_x.to(torch.float32)\n",
    "        #D_x = c_skip*x + c_out*F_x.to(torch.float32)\n",
    "        D_x = x + F_x.to(torch.float32)\n",
    "        return D_x   \n",
    "\n",
    "    def round_sigma(self, sigma):\n",
    "        return torch.as_tensor(sigma)"
   ]
  },
  {
   "cell_type": "code",
   "execution_count": 122,
   "metadata": {},
   "outputs": [],
   "source": [
    "from torch.nn.functional import logsigmoid\n",
    "\n",
    "def bd_sampler(\n",
    "    net, latents, class_labels=None, randn_like=torch.randn_like,\n",
    "    num_steps=None, alpha_min=None, eta=None, sigmoid_start=None, sigmoid_end=None, sigmoid_power=None, start_step=None,Scale=None,Shift=None,normalize_output = True\n",
    "):\n",
    "\n",
    "    cust_dtype = torch.float64\n",
    "    if num_steps>350:\n",
    "    # if 1:\n",
    "        step_indices = torch.arange(num_steps, dtype=cust_dtype, device=latents.device)\n",
    "\n",
    "        t_steps = 1-step_indices / (num_steps - 1)*(1-1e-5)\n",
    "\n",
    "        #t_steps = 0.996**(step_indices / (num_steps - 1)*500)\n",
    "\n",
    "        # epsilon_s = 1e-5                \n",
    "        # t_steps =  (epsilon_s + step_indices/(num_steps-1) * (1.0 - epsilon_s)).flip(dims=(0,))\n",
    "\n",
    "        t_steps = torch.cat([net.module.round_sigma(t_steps), torch.zeros_like(t_steps[:1])])\n",
    "\n",
    "        logit_alpha = sigmoid_start + (sigmoid_end-sigmoid_start) * (t_steps**sigmoid_power)\n",
    "        alpha = logit_alpha.sigmoid()\n",
    "    \n",
    "    else:\n",
    "        step_indices = torch.arange(num_steps+1, dtype=cust_dtype, device=latents.device)\n",
    "        log_pi = (sigmoid_start + (sigmoid_end - sigmoid_start) * (torch.tensor(1, dtype=cust_dtype, device=latents.device)**sigmoid_power)).sigmoid().log() / (num_steps)\n",
    "        #log_pi = torch.tensor(2e-6, device=latents.device).log()/(num_steps)\n",
    "        alpha = (step_indices*log_pi).exp()\n",
    "        alpha = torch.flip(alpha, [0])\n",
    "        logit_alpha = alpha.logit()\n",
    "        \n",
    "\n",
    "    alpha_min = alpha_min if alpha_min is not None else alpha[0]\n",
    "    # print(\"alpha_min\", alpha_min)\n",
    "    if 1:\n",
    "        log_u = log_gamma( (eta * alpha_min * latents).to(torch.float32) ).to(cust_dtype)\n",
    "        log_v = log_gamma( (eta - eta * alpha_min * latents).to(torch.float32) ).to(cust_dtype)\n",
    "        x_next = (log_u - log_v).to(latents.device)\n",
    "    else:\n",
    "        x_next = torch.logit( alpha_min*latents.to(cust_dtype) ).to(latents.device)\n",
    "\n",
    "    # if 1:\n",
    "    #     x_next =x_next.clamp(torch.log( torch.tensor(MIN,device=latents.device)))\n",
    "\n",
    "    # Main sampling loop.\n",
    "    ims = []\n",
    "    im_xhats = []\n",
    "    for i, (logit_alpha_cur,logit_alpha_next) in enumerate(zip(logit_alpha[:-1], logit_alpha[1:])): # 0, ..., N-1\n",
    "        x_cur = x_next\n",
    "        alpha_cur = logit_alpha_cur.sigmoid()\n",
    "        alpha_next = logit_alpha_next.sigmoid()\n",
    "\n",
    "        log_alpha_cur = logsigmoid(logit_alpha_cur)\n",
    "\n",
    "        xmin = Shift\n",
    "        xmax = Shift + Scale\n",
    "        xmean = Shift+Scale/2.0\n",
    "        \n",
    "        E1 = 1.0/(eta*alpha_cur*Scale)*((eta * alpha_cur * xmax).lgamma() - (eta * alpha_cur * xmin).lgamma())\n",
    "        E2 = 1.0/(eta*alpha_cur*Scale)*((eta-eta * alpha_cur * xmin).lgamma() - (eta-eta * alpha_cur * xmax).lgamma())\n",
    "        E_logit_x_t =  E1 - E2\n",
    "\n",
    "\n",
    "        V1 = 1.0/(eta*alpha_cur*Scale)*((eta * alpha_cur * xmax).digamma() - (eta * alpha_cur * xmin).digamma())\n",
    "        V2 = 1.0/(eta*alpha_cur*Scale)*((eta-eta * alpha_cur * xmin).digamma() - (eta-eta * alpha_cur * xmax).digamma())\n",
    "\n",
    "        grids = (torch.arange(0,101,device=latents.device)/100 +0.5/100)*Scale+Shift\n",
    "        grids = grids[:-1]\n",
    "        alpha_x = alpha_cur*grids \n",
    "        if 1:\n",
    "            #V3 = (((eta * alpha_cur * xmean).digamma())**2- E1**2).clamp(0)\n",
    "            #V4 = (((eta-eta * alpha_cur * xmean).digamma())**2- E2**2).clamp(0)\n",
    "            #V3 = E1**2\n",
    "            #V4 = E2**2\n",
    "            grids = (torch.arange(0,101,device=latents.device)/100)*Scale+Shift\n",
    "            alpha_x = alpha_cur*grids \n",
    "            V3 = ((eta * alpha_x).digamma())**2\n",
    "            #print(V3.shape)\n",
    "            V3[0] = (V3[0]+V3[-1])/2\n",
    "            V3 = V3[:-1]\n",
    "            V3 = (V3.mean()- E1**2).clamp(0)   \n",
    "            V4 = ((eta - eta*alpha_x).digamma())**2\n",
    "            V4[0] = (V4[0]+V4[-1])/2\n",
    "            V4 = V4[:-1]\n",
    "            V4 = (V4.mean()- E2**2).clamp(0)\n",
    "            \n",
    "            #V3 = (( ((eta * alpha_x).digamma())**2).mean()- E1**2).clamp(0)           \n",
    "            #V4 = (( ((eta - eta*alpha_x).digamma())**2).mean()- E2**2).clamp(0)\n",
    "        else:\n",
    "            V3 = (( ((eta * alpha_x).digamma())**2).mean()- E1**2).clamp(0)           \n",
    "            V4 = (( ((eta - eta*alpha_x).digamma())**2).mean()- E2**2).clamp(0)\n",
    "\n",
    "\n",
    "        std_logit_x_t = (V1+V2+V3+V4).sqrt()\n",
    "        \n",
    "        #std_logit_x_t = std_logit_x_t.clamp(EPS)\n",
    "\n",
    "        logit_x_t = x_cur\n",
    "        # print(\"(logit_x_t-E_logit_x_t)/std_logit_x_t\", ((logit_x_t-E_logit_x_t)/std_logit_x_t).shape)\n",
    "        # print(\"logit_alpha_cur\", logit_alpha_cur.shape)\n",
    "        # print(\"class_labels\", class_labels.shape)\n",
    "        if class_labels is None:\n",
    "            logit_x0_hat = net((logit_x_t-E_logit_x_t)/std_logit_x_t, logit_alpha_cur.unsqueeze(0).repeat(logit_x_t.shape[0])).to(cust_dtype)\n",
    "        else:    \n",
    "            logit_x0_hat = net((logit_x_t-E_logit_x_t)/std_logit_x_t, logit_alpha_cur.unsqueeze(0).repeat(logit_x_t.shape[0]), class_labels).to(cust_dtype)\n",
    "            \n",
    "        if normalize_output:\n",
    "\n",
    "            variance = (1/4) * (torch.polygamma(1, eta * alpha_cur * (Scale + Shift)) - torch.polygamma(1, eta * (1- alpha_cur * (Scale+Shift)))) + \\\n",
    "                    (3/4) * (torch.polygamma(1, eta * alpha_cur * Shift) - torch.polygamma(1, eta * (1 - alpha_cur * Shift))) + \\\n",
    "                    (3/16) * ((torch.special.digamma(eta * alpha_cur * (Scale + Shift)) - torch.special.digamma(eta * (1 - alpha_cur * (Scale + Shift)))) - \\\n",
    "                                (torch.special.digamma(eta * alpha_cur * Shift) - torch.special.digamma(eta * (1 - alpha_cur * Shift))))**2\n",
    "\n",
    "            std = torch.clamp(torch.sqrt(variance) * (eta * alpha_cur * Scale), max = 20)\n",
    "\n",
    "            # mean = (1/4) * (torch.special.digamma(eta * alpha_cur * (Scale + Shift)) - torch.special.digamma(eta * (1- alpha_cur * (Scale+Shift)))) + \\\n",
    "            #         (3/4) * (torch.special.digamma(eta * alpha_cur * Shift) - torch.special.digamma(eta * (1 - alpha_cur * Shift)))\n",
    "\n",
    "            # mean = mean * (eta * alpha_cur * Scale) - torch.lgamma(eta * alpha_cur * (Scale + Shift)) - torch.lgamma(eta * (1 - alpha_cur * (Scale + Shift))) + \\\n",
    "            #             torch.lgamma(eta * alpha_cur * (Shift)) + torch.lgamma(eta * (1 - alpha_cur * (Shift))) \n",
    "\n",
    "            # mean = torch.clamp(mean, min = -20)\n",
    "\n",
    "            # logit_x0_hat = logit_x0_hat * std + mean\n",
    "            logit_x0_hat = logit_x0_hat * std\n",
    "\n",
    "        x0_hat = torch.sigmoid(logit_x0_hat)* Scale + Shift\n",
    "\n",
    "        alpha_reverse = (eta*alpha_next-eta*alpha_cur)*x0_hat\n",
    "        beta_reverse = eta-eta*alpha_next*x0_hat\n",
    "        log_u = log_gamma(alpha_reverse.to(torch.float32)).to(cust_dtype)\n",
    "        log_v = log_gamma(beta_reverse.to(torch.float32)).to(cust_dtype)\n",
    "        concatenated = torch.cat((x_cur.unsqueeze(-1), (log_u-log_v).unsqueeze(-1), (x_cur+log_u-log_v).unsqueeze(-1)), dim=3)\n",
    "        x_next = torch.logsumexp(concatenated, dim=3)   \n",
    "\n",
    "    if 1: # step<num_steps/2:\n",
    "        out = (x0_hat- Shift) / Scale\n",
    "        out1 = ((torch.sigmoid(x_next)/alpha_next- Shift) / Scale) #.clamp(0,1)\n",
    "        # else:\n",
    "        #     out = 0.8*out+0.2*temp_out \n",
    "        #     #out1 = 0.8*out1+0.2*((torch.sigmoid(x_cur)/alpha[step]- Shift) / Scale) #.clamp(0,1)\n",
    "        #     out1 = 0.8*out1+0.2*((torch.sigmoid(x_next)/alpha[step-1]- Shift) / Scale) #.clamp(0,1)\n",
    "        #     #out1 = 0.8*out1+0.2*(torch.sigmoid(x_cur)/alpha[step]) #.clamp(0,1)    \n",
    "    return out, out1  \n",
    "\n",
    "def log_gamma(alpha):\n",
    "    return torch.log(torch._standard_gamma(alpha))"
   ]
  },
  {
   "cell_type": "code",
   "execution_count": 7,
   "metadata": {},
   "outputs": [],
   "source": [
    "config = ModelParameters() \n",
    "\n",
    "device = config.device \n"
   ]
  },
  {
   "cell_type": "code",
   "execution_count": 8,
   "metadata": {},
   "outputs": [],
   "source": [
    "sei = nn.DataParallel(NonStrandSpecific(Sei(4096, 21907)))\n",
    "sei.load_state_dict(torch.load('../data/promoter_design/best.sei.model.pth.tar', map_location='cpu')['state_dict'])\n",
    "sei.cuda()\n",
    "\n",
    "seifeatures = pd.read_csv('../data/promoter_design/target.sei.names', sep='|', header=None)"
   ]
  },
  {
   "cell_type": "code",
   "execution_count": 93,
   "metadata": {
    "scrolled": true
   },
   "outputs": [
    {
     "data": {
      "text/plain": [
       "DataParallel(\n",
       "  (module): BetaDiffPrecond(\n",
       "    (model): ScoreNet(\n",
       "      (embed): Sequential(\n",
       "        (0): GaussianFourierProjection()\n",
       "        (1): Linear(in_features=256, out_features=256, bias=True)\n",
       "      )\n",
       "      (linear): Conv1d(5, 256, kernel_size=(9,), stride=(1,), padding=(4,))\n",
       "      (blocks): ModuleList(\n",
       "        (0-1): 2 x Conv1d(256, 256, kernel_size=(9,), stride=(1,), padding=(4,))\n",
       "        (2): Conv1d(256, 256, kernel_size=(9,), stride=(1,), padding=(16,), dilation=(4,))\n",
       "        (3): Conv1d(256, 256, kernel_size=(9,), stride=(1,), padding=(64,), dilation=(16,))\n",
       "        (4): Conv1d(256, 256, kernel_size=(9,), stride=(1,), padding=(256,), dilation=(64,))\n",
       "        (5-6): 2 x Conv1d(256, 256, kernel_size=(9,), stride=(1,), padding=(4,))\n",
       "        (7): Conv1d(256, 256, kernel_size=(9,), stride=(1,), padding=(16,), dilation=(4,))\n",
       "        (8): Conv1d(256, 256, kernel_size=(9,), stride=(1,), padding=(64,), dilation=(16,))\n",
       "        (9): Conv1d(256, 256, kernel_size=(9,), stride=(1,), padding=(256,), dilation=(64,))\n",
       "        (10-11): 2 x Conv1d(256, 256, kernel_size=(9,), stride=(1,), padding=(4,))\n",
       "        (12): Conv1d(256, 256, kernel_size=(9,), stride=(1,), padding=(16,), dilation=(4,))\n",
       "        (13): Conv1d(256, 256, kernel_size=(9,), stride=(1,), padding=(64,), dilation=(16,))\n",
       "        (14): Conv1d(256, 256, kernel_size=(9,), stride=(1,), padding=(256,), dilation=(64,))\n",
       "        (15-16): 2 x Conv1d(256, 256, kernel_size=(9,), stride=(1,), padding=(4,))\n",
       "        (17): Conv1d(256, 256, kernel_size=(9,), stride=(1,), padding=(16,), dilation=(4,))\n",
       "        (18): Conv1d(256, 256, kernel_size=(9,), stride=(1,), padding=(64,), dilation=(16,))\n",
       "        (19): Conv1d(256, 256, kernel_size=(9,), stride=(1,), padding=(256,), dilation=(64,))\n",
       "      )\n",
       "      (denses): ModuleList(\n",
       "        (0-19): 20 x Dense(\n",
       "          (dense): Linear(in_features=256, out_features=256, bias=True)\n",
       "        )\n",
       "      )\n",
       "      (norms): ModuleList(\n",
       "        (0-19): 20 x GroupNorm(1, 256, eps=1e-05, affine=True)\n",
       "      )\n",
       "      (relu): ReLU()\n",
       "      (softplus): Softplus(beta=1.0, threshold=20.0)\n",
       "      (final): Sequential(\n",
       "        (0): Conv1d(256, 256, kernel_size=(1,), stride=(1,))\n",
       "        (1): GELU(approximate='none')\n",
       "        (2): Conv1d(256, 4, kernel_size=(1,), stride=(1,))\n",
       "      )\n",
       "    )\n",
       "  )\n",
       ")"
      ]
     },
     "execution_count": 93,
     "metadata": {},
     "output_type": "execute_result"
    }
   ],
   "source": [
    "score_model = nn.DataParallel(BetaDiffPrecond())\n",
    "# score_model.load_state_dict(torch.load('./sdedna_promoter_revision_dirichlet.sei.bestvalid.pth'))\n",
    "# score_model.load_state_dict(torch.load('./sdedna_promoter_revision_dirichlet_sigmoid_10-13_0.2.sei.bestvalid.pth'))\n",
    "score_model.load_state_dict(torch.load('./sdedna_promoter_revision_beta_start_10.0_end_-13.0_power_0.1_eta_10000.0_scale_0.5_shift_0.4.sei.bestvalid.pth'))\n",
    "score_model.cuda() \n",
    "score_model.eval()"
   ]
  },
  {
   "cell_type": "code",
   "execution_count": 39,
   "metadata": {},
   "outputs": [
    {
     "name": "stderr",
     "output_type": "stream",
     "text": [
      "\n",
      "00%|██████████| 2915/2915 [00:08<00:00, 331.25it/s]"
     ]
    }
   ],
   "source": [
    "test_set = TSSDatasetS(config, split='test',n_tsses=40000, rand_offset=0)\n",
    "test_data_loader = DataLoader(test_set, batch_size=config.batch_size, shuffle=False, num_workers=0)\n",
    "test_datasets = []\n",
    "for x in tqdm.tqdm(test_data_loader):\n",
    "    test_datasets.append(x)"
   ]
  },
  {
   "cell_type": "code",
   "execution_count": 111,
   "metadata": {
    "scrolled": true
   },
   "outputs": [
    {
     "name": "stderr",
     "output_type": "stream",
     "text": [
      "\n",
      "00%|██████████| 2915/2915 [3:52:36<00:00,  4.79s/it]  "
     ]
    }
   ],
   "source": [
    "#generate sequence samples\n",
    "# torch.set_default_dtype(torch.float32)\n",
    "torch.set_default_dtype(torch.float32)\n",
    "\n",
    "allsamples = []\n",
    "score_model.eval()\n",
    "for t in tqdm.tqdm(test_datasets):\n",
    "    samples=[]\n",
    "    for i in range(5):\n",
    "        latents = torch.ones(size = (t.shape[0], t.shape[1], 4))*0.25\n",
    "        samples.append(bd_sampler(net = score_model, latents = latents.cuda(), class_labels = t[:, :, 4:5].cuda(), randn_like=torch.randn_like,\n",
    "                num_steps=100, alpha_min=None, eta=10000.0, sigmoid_start=config.sigmoid_start, sigmoid_end = config.sigmoid_end, sigmoid_power=config.sigmoid_power, \n",
    "                start_step=None,Scale=config.Scale,Shift=config.Shift, normalize_output = config.normalize_output)[0].detach().cpu().numpy())\n",
    "    allsamples.append(samples)"
   ]
  },
  {
   "cell_type": "code",
   "execution_count": null,
   "metadata": {
    "scrolled": true
   },
   "outputs": [
    {
     "name": "stderr",
     "output_type": "stream",
     "text": [
      "  1%|          | 17/2915 [03:08<7:49:02,  9.71s/it]"
     ]
    }
   ],
   "source": [
    "#with time-dilation\n",
    "torch.set_default_dtype(torch.float32)\n",
    "\n",
    "allsamples2x = []\n",
    "for t in tqdm.tqdm(test_datasets):\n",
    "    samples=[]\n",
    "    for i in range(5):\n",
    "        score_model.eval()\n",
    "        latents = torch.ones(size = (t.shape[0], t.shape[1], 4))*0.25\n",
    "        samples.append(bd_sampler(net = score_model, latents = latents.cuda(), class_labels = t[:, :, 4:5].cuda(), randn_like=torch.randn_like,\n",
    "                num_steps=200, alpha_min=None, eta=10000.0, sigmoid_start=config.sigmoid_start, sigmoid_end = config.sigmoid_end, sigmoid_power=config.sigmoid_power, \n",
    "                start_step=None,Scale=config.Scale,Shift=config.Shift, normalize_output = config.normalize_output)[0].detach().cpu().numpy())\n",
    "    allsamples2x.append(samples)"
   ]
  },
  {
   "cell_type": "code",
   "execution_count": null,
   "metadata": {
    "scrolled": true
   },
   "outputs": [],
   "source": [
    "#with time-dilatio\n",
    "torch.set_default_dtype(torch.float32)\n",
    "\n",
    "allsamples4x = []\n",
    "for t in tqdm.tqdm(test_datasets):\n",
    "    samples=[]\n",
    "    for i in range(5):\n",
    "        score_model.eval()\n",
    "        latents = torch.ones(size = (t.shape[0], t.shape[1], 4))*0.25\n",
    "        samples.append(bd_sampler(net = score_model, latents = latents.cuda(), class_labels = t[:, :, 4:5].cuda(), randn_like=torch.randn_like,\n",
    "                num_steps=400, alpha_min=None, eta=10000.0, sigmoid_start=config.sigmoid_start, sigmoid_end = config.sigmoid_end, sigmoid_power=config.sigmoid_power, \n",
    "                start_step=None,Scale=config.Scale,Shift=config.Shift, normalize_output = config.normalize_output)[0].detach().cpu().numpy())\n",
    "    allsamples4x.append(samples)"
   ]
  },
  {
   "cell_type": "code",
   "execution_count": 119,
   "metadata": {},
   "outputs": [],
   "source": [
    "allsamples = np.concatenate(allsamples, axis=1)"
   ]
  },
  {
   "cell_type": "code",
   "execution_count": null,
   "metadata": {},
   "outputs": [],
   "source": [
    "allsamples2x = np.concatenate(allsamples2x, axis=1)"
   ]
  },
  {
   "cell_type": "code",
   "execution_count": null,
   "metadata": {},
   "outputs": [],
   "source": [
    "allsamples4x = np.concatenate(allsamples4x, axis=1)"
   ]
  },
  {
   "cell_type": "code",
   "execution_count": 113,
   "metadata": {},
   "outputs": [],
   "source": [
    "testseqs = np.concatenate(test_datasets, axis=0)[:,:,:4]"
   ]
  },
  {
   "cell_type": "code",
   "execution_count": 13,
   "metadata": {},
   "outputs": [],
   "source": [
    "np.save(arr=allsamples, file='allsamples_beta.npy')\n",
    "np.save(arr=allsamples2x, file='allsamples.tdilation2x_tdsf1_beta.npy')\n",
    "np.save(arr=allsamples4x, file='allsamples.tdilation4x_tdsf1_beta.npy')"
   ]
  },
  {
   "cell_type": "code",
   "execution_count": null,
   "metadata": {},
   "outputs": [],
   "source": [
    "allsamples = np.load('allsamples.npy')\n",
    "allsamples2x = np.load('allsamples.tdilation2x_tdsf1.npy')\n",
    "allsamples4x = np.load('allsamples.tdilation4x_tdsf1.npy')"
   ]
  },
  {
   "cell_type": "code",
   "execution_count": 114,
   "metadata": {},
   "outputs": [],
   "source": [
    "allsamples_pred = np.zeros((5, 2915, 21907))\n",
    "for j in range(5):\n",
    "    for i in range(int(allsamples[j].shape[0]/128)):\n",
    "        seq = 1.0* (allsamples[j][i*128:(i+1)*128] > 0.5)\n",
    "        allsamples_pred[j,i*128:(i+1)*128] =  sei(torch.cat([torch.ones((seq.shape[0],4,1536))*0.25, torch.FloatTensor(seq).transpose(1,2), \n",
    "                   torch.ones((seq.shape[0],4,1536))*0.25], 2).cuda()).cpu().detach().numpy()\n",
    "    seq = allsamples[j][-128:]\n",
    "    allsamples_pred[j, -128:] =  sei(torch.cat([torch.ones((seq.shape[0],4,1536))*0.25, torch.FloatTensor(seq).transpose(1,2), \n",
    "                   torch.ones((seq.shape[0],4,1536))*0.25], 2).cuda()).cpu().detach().numpy()\n"
   ]
  },
  {
   "cell_type": "code",
   "execution_count": null,
   "metadata": {},
   "outputs": [],
   "source": [
    "allsamples_pred2x = np.zeros((5, 2915, 21907))\n",
    "for j in range(5):\n",
    "    for i in range(int(allsamples2x[j].shape[0]/128)):\n",
    "        seq = 1.0* (allsamples2x[j][i*128:(i+1)*128] > 0.5)\n",
    "        allsamples_pred2x[j,i*128:(i+1)*128] =  sei(torch.cat([torch.ones((seq.shape[0],4,1536))*0.25, torch.FloatTensor(seq).transpose(1,2), \n",
    "                   torch.ones((seq.shape[0],4,1536))*0.25], 2).cuda()).cpu().detach().numpy()\n",
    "    seq = allsamples2x[j][-128:]\n",
    "    allsamples_pred2x[j, -128:] =  sei(torch.cat([torch.ones((seq.shape[0],4,1536))*0.25, torch.FloatTensor(seq).transpose(1,2), \n",
    "                   torch.ones((seq.shape[0],4,1536))*0.25], 2).cuda()).cpu().detach().numpy()\n"
   ]
  },
  {
   "cell_type": "code",
   "execution_count": null,
   "metadata": {},
   "outputs": [],
   "source": [
    "allsamples_pred4x = np.zeros((5, 2915, 21907))\n",
    "for j in range(5):\n",
    "    for i in range(int(allsamples4x[j].shape[0]/128)):\n",
    "        seq = 1.0* (allsamples4x[j][i*128:(i+1)*128] > 0.5)\n",
    "        allsamples_pred4x[j,i*128:(i+1)*128] =  sei(torch.cat([torch.ones((seq.shape[0],4,1536))*0.25, torch.FloatTensor(seq).transpose(1,2), \n",
    "                   torch.ones((seq.shape[0],4,1536))*0.25], 2).cuda()).cpu().detach().numpy()\n",
    "    seq = allsamples4x[j][-128:]\n",
    "    allsamples_pred4x[j, -128:] =  sei(torch.cat([torch.ones((seq.shape[0],4,1536))*0.25, torch.FloatTensor(seq).transpose(1,2), \n",
    "                   torch.ones((seq.shape[0],4,1536))*0.25], 2).cuda()).cpu().detach().numpy()\n"
   ]
  },
  {
   "cell_type": "code",
   "execution_count": 98,
   "metadata": {},
   "outputs": [],
   "source": [
    "with torch.no_grad():\n",
    "    testseqs_pred = np.zeros((2915, 21907))\n",
    "    for i in range(int(testseqs.shape[0]/128)):\n",
    "        testseq = testseqs[i*128:(i+1)*128]\n",
    "        testseqs_pred[i*128:(i+1)*128] =  sei(torch.cat([torch.ones((testseq.shape[0],4,1536))*0.25, torch.FloatTensor(testseq).transpose(1,2), \n",
    "                   torch.ones((testseq.shape[0],4,1536))*0.25], 2).cuda()).cpu().detach().numpy()\n",
    "    testseq = testseqs[-128:]\n",
    "    testseqs_pred[-128:] =  sei(torch.cat([torch.ones((testseq.shape[0],4,1536))*0.25, torch.FloatTensor(testseq).transpose(1,2), \n",
    "                   torch.ones((testseq.shape[0],4,1536))*0.25], 2).cuda()).cpu().detach().numpy()\n"
   ]
  },
  {
   "cell_type": "code",
   "execution_count": 99,
   "metadata": {},
   "outputs": [],
   "source": [
    "testseqs_predh3k4me3 = testseqs_pred[:,seifeatures[1].str.strip().values=='H3K4me3'].mean(axis=1)"
   ]
  },
  {
   "cell_type": "code",
   "execution_count": 115,
   "metadata": {},
   "outputs": [],
   "source": [
    "exp=(10**np.concatenate(test_datasets, axis=0)[:,12:-12,4]-1).sum(axis=-1)"
   ]
  },
  {
   "cell_type": "code",
   "execution_count": 116,
   "metadata": {},
   "outputs": [],
   "source": [
    "allsamples_predh3k4me3 = allsamples_pred[:,:,seifeatures[1].str.strip().values=='H3K4me3'].mean(axis=-1)"
   ]
  },
  {
   "cell_type": "code",
   "execution_count": null,
   "metadata": {},
   "outputs": [],
   "source": [
    "allsamples2x_predh3k4me3 = allsamples_pred2x[:,:,seifeatures[1].str.strip().values=='H3K4me3'].mean(axis=-1)"
   ]
  },
  {
   "cell_type": "code",
   "execution_count": null,
   "metadata": {},
   "outputs": [],
   "source": [
    "allsamples4x_predh3k4me3 = allsamples_pred4x[:,:,seifeatures[1].str.strip().values=='H3K4me3'].mean(axis=-1)"
   ]
  },
  {
   "cell_type": "code",
   "execution_count": 117,
   "metadata": {},
   "outputs": [
    {
     "data": {
      "text/plain": [
       "[<matplotlib.lines.Line2D at 0x2b018cb05750>]"
      ]
     },
     "execution_count": 117,
     "metadata": {},
     "output_type": "execute_result"
    },
    {
     "data": {
      "image/png": "[encoded data removed]",
      "text/plain": [
       "<Figure size 640x480 with 1 Axes>"
      ]
     },
     "metadata": {},
     "output_type": "display_data"
    }
   ],
   "source": [
    "plt.plot(allsamples_pred[:,:,seifeatures[1].str.strip().values=='H3K4me3'].mean(axis=-1).mean(0),\n",
    "        testseqs_pred[:,seifeatures[1].str.strip().values=='H3K4me3'].mean(axis=-1),'.')"
   ]
  },
  {
   "cell_type": "code",
   "execution_count": 120,
   "metadata": {},
   "outputs": [
    {
     "data": {
      "text/plain": [
       "(np.float64(0.041252179138817534), np.float64(0.00023528122120453413))"
      ]
     },
     "execution_count": 120,
     "metadata": {},
     "output_type": "execute_result"
    }
   ],
   "source": [
    "acc = []\n",
    "for i in range(5):\n",
    "    acc.append(((allsamples_predh3k4me3[i] - testseqs_predh3k4me3)**2).mean())\n",
    "np.mean(acc), np.std(acc)/np.sqrt(4)"
   ]
  },
  {
   "cell_type": "code",
   "execution_count": 128,
   "metadata": {},
   "outputs": [
    {
     "data": {
      "text/plain": [
       "(np.float64(0.04067288056936634), np.float64(0.00043297744190450417))"
      ]
     },
     "execution_count": 128,
     "metadata": {},
     "output_type": "execute_result"
    }
   ],
   "source": [
    "acc = []\n",
    "for i in range(5):\n",
    "    acc.append(((allsamples2x_predh3k4me3[i] - testseqs_predh3k4me3)**2).mean())\n",
    "np.mean(acc), np.std(acc)/np.sqrt(4)"
   ]
  },
  {
   "cell_type": "code",
   "execution_count": null,
   "metadata": {},
   "outputs": [],
   "source": [
    "acc = []\n",
    "for i in range(5):\n",
    "    acc.append(((allsamples4x_predh3k4me3[i] - testseqs_predh3k4me3)**2).mean())\n",
    "np.mean(acc), np.std(acc)/np.sqrt(4)"
   ]
  },
  {
   "cell_type": "code",
   "execution_count": null,
   "metadata": {},
   "outputs": [],
   "source": [
    "%load_ext rpy2.ipython"
   ]
  },
  {
   "cell_type": "code",
   "execution_count": null,
   "metadata": {},
   "outputs": [],
   "source": [
    "%%R \n",
    "require(scales)\n",
    "theme_Publication <- function(base_size=14, base_family=\"helvetica\") {\n",
    "      library(grid)\n",
    "      library(ggthemes)\n",
    "      (theme_foundation(base_size=base_size, base_family=base_family)\n",
    "       + theme(plot.title = element_text(face = \"bold\",\n",
    "                                         size = rel(1.2), hjust = 0.5),\n",
    "               text = element_text(),\n",
    "               panel.background = element_rect(colour = NA),\n",
    "               plot.background = element_rect(colour = NA),\n",
    "               panel.border = element_rect(colour = NA),\n",
    "               axis.title = element_text(face = \"bold\",size = rel(1)),\n",
    "               axis.title.y = element_text(angle=90,vjust =2),\n",
    "               axis.title.x = element_text(vjust = -0.2),\n",
    "               axis.text = element_text(), \n",
    "               axis.line = element_line(colour=\"black\"),\n",
    "               axis.ticks = element_line(),\n",
    "               panel.grid.major = element_blank(),\n",
    "               panel.grid.minor = element_blank(),\n",
    "               legend.key = element_rect(colour = NA),\n",
    "               legend.position = \"bottom\",\n",
    "               legend.direction = \"horizontal\",\n",
    "               legend.key.size= unit(1, \"cm\"),\n",
    "               legend.margin = unit(0, \"cm\"),\n",
    "               legend.title = element_text(face=\"italic\"),\n",
    "               plot.margin=unit(c(10,5,5,5),\"mm\"),\n",
    "               strip.background=element_rect(colour=\"#f0f0f0\",fill=\"#f0f0f0\"),\n",
    "               strip.text = element_text(face=\"bold\")\n",
    "          ))\n",
    "      \n",
    "}\n",
    "scale_fill_Publication <- function(...){\n",
    "      discrete_scale(\"fill\",\"Publication\",manual_pal(values = c(\"#386cb0\",\"#fdb462\",\"#7fc97f\",\"#ef3b2c\",\"#662506\",\"#a6cee3\",\"#fb9a99\",\"#984ea3\",\"#ffff33\")), ...)\n",
    "\n",
    "}\n",
    "scale_colour_Publication <- function(...){\n",
    "      discrete_scale(\"colour\",\"Publication\",manual_pal(values = c(\"#386cb0\",\"#fdb462\",\"#7fc97f\",\"#ef3b2c\",\"#662506\",\"#a6cee3\",\"#fb9a99\",\"#984ea3\",\"#ffff33\")), ...)\n",
    "\n",
    "}"
   ]
  },
  {
   "cell_type": "code",
   "execution_count": null,
   "metadata": {},
   "outputs": [],
   "source": [
    "%%R -i testseqs_predh3k4me3,allsamples_predh3k4me3,exp -w 10 -h 6 --unit in --res 300\n",
    "require(ggplot2)\n",
    "\n",
    "cutp <- function(x){\n",
    "    cut(x, breaks=c(quantile(x, probs = seq(0, 1, by = 0.10))), include.lowest = T,\n",
    "    labels=c(\"0-10%\",\"10-20%\",\"20-30%\",\"30-40%\",\"40-50%\",\"50-60%\",\"60-70%\",\"70-80%\",\"80-90%\",\"90-100%\"))\n",
    "}\n",
    "\n",
    "print(table(cutp(log10(1+exp))))\n",
    "plotdata = rbind(data.frame(x=cutp(log10(1+exp)), y=testseqs_predh3k4me3/0.004138, type='Human genome sequence'),\n",
    "      data.frame(x=cutp(log10(1+exp)), y=allsamples_predh3k4me3[1,]/0.004138, type='Designed sequence'))\n",
    "plotdata$type = factor(plotdata$type, levels=c('Human genome sequence', 'Designed sequence'))\n",
    "p = ggplot(plotdata)+geom_boxplot(aes(x=x, y=y, fill=type),outlier.shape = NA)+\n",
    "    ylab('Sequence promoter activity prediction \\n (fold above baseline)') + xlab('Targeted promoter transcriptional activity for sequence generation (percentile)')+\n",
    "    theme_Publication()+scale_fill_manual(values=c('gray','red'))+geom_hline(yintercept=1, linetype=2)\n",
    "ggsave('compare_seqs.pdf', device=cairo_pdf)\n",
    "p"
   ]
  },
  {
   "cell_type": "code",
   "execution_count": null,
   "metadata": {},
   "outputs": [],
   "source": [
    "testseqs_scpred = testseqs_predh3k4me3\n",
    "allsamples_scpred = allsamples_predh3k4me3\n",
    "allsamples2x_scpred = allsamples2x_predh3k4me3"
   ]
  },
  {
   "cell_type": "code",
   "execution_count": null,
   "metadata": {},
   "outputs": [],
   "source": [
    "\n",
    "%%R -i testseqs_scpred,allsamples_scpred,allsamples2x_scpred,exp -w 10 -h 6 --unit in --res 300\n",
    "require(ggplot2)\n",
    "\n",
    "cutp <- function(x){\n",
    "    cut(x, breaks=c(quantile(x, probs = seq(0, 1, by = 0.10))), include.lowest = T,\n",
    "    labels=c(\"0-10%\",\"10-20%\",\"20-30%\",\"30-40%\",\"40-50%\",\"50-60%\",\"60-70%\",\"70-80%\",\"80-90%\",\"90-100%\"))\n",
    "}\n",
    "\n",
    "print(table(cutp(log10(1+exp))))\n",
    "plotdata = rbind(data.frame(x=cutp(log10(1+exp)), y=testseqs_scpred/0.004138, type='Human genome sequence'),\n",
    "      data.frame(x=rep(cutp(log10(1+exp)),each=5), y=as.numeric(allsamples_scpred)/0.004138, type='Designed sequence'),\n",
    "       data.frame(x=rep(cutp(log10(1+exp)),each=5), y=as.numeric(allsamples2x_scpred)/0.004138, type='Designed sequence (2x time dilation)'))\n",
    "plotdata$type = factor(plotdata$type, levels=c('Human genome sequence', 'Designed sequence','Designed sequence (2x time dilation)'))\n",
    "p = ggplot(plotdata)+geom_boxplot(aes(x=x, y=y, fill=type),outlier.shape = NA)+\n",
    "    ylab('Sequence promoter activity prediction \\n (fold above baseline)') + xlab('Targeted promoter transcriptional activity for sequence generation (percentile)')+\n",
    "    theme_Publication()+scale_fill_manual(values=c('gray','red','purple'))+geom_hline(yintercept=1, linetype=2)\n",
    "ggsave('compare_seqs2.pdf', device=cairo_pdf)\n",
    "p"
   ]
  },
  {
   "cell_type": "code",
   "execution_count": null,
   "metadata": {},
   "outputs": [],
   "source": [
    "sample_bp = allsamples[0,:,:,:].mean(axis=0)\n",
    "testseqs_bp = testseqs.mean(axis=0)"
   ]
  },
  {
   "cell_type": "code",
   "execution_count": null,
   "metadata": {},
   "outputs": [],
   "source": [
    "sample_bp2x = allsamples2x[0,:2915,:,:].mean(axis=0)"
   ]
  },
  {
   "cell_type": "code",
   "execution_count": null,
   "metadata": {},
   "outputs": [],
   "source": [
    "%%R -i sample_bp,testseqs_bp -w 10 -h 4 --unit in --res 300\n",
    "require(ggplot2)\n",
    "require(reshape2)\n",
    "colnames(sample_bp) = c('A','C','G','T')\n",
    "colnames(testseqs_bp) = c('A','C','G','T')\n",
    "plotdata = rbind(cbind(melt(sample_bp),type='Designed promoter sequences'), \n",
    "                 cbind(melt(testseqs_bp),type='Human genome promoter sequences'))\n",
    "\n",
    "p=ggplot(plotdata) + geom_line(aes(x=Var1-512, y=value, color=Var2))+theme_Publication()+scale_colour_Publication()+\n",
    "    facet_wrap(~type,nrow=2)+xlab('Relative position (basepair)') + ylab('Proportion')\n",
    "# ggsave('./figures/seqs_bp.pdf', device=cairo_pdf)\n",
    "p"
   ]
  },
  {
   "cell_type": "code",
   "execution_count": null,
   "metadata": {},
   "outputs": [],
   "source": [
    "%%R -i sample_bp,sample_bp2x,testseqs_bp -w 10 -h 6 --unit in --res 300\n",
    "require(ggplot2)\n",
    "require(reshape2)\n",
    "colnames(sample_bp) = c('A','C','G','T')\n",
    "colnames(sample_bp2x) = c('A','C','G','T')\n",
    "colnames(testseqs_bp) = c('A','C','G','T')\n",
    "plotdata = rbind(cbind(melt(sample_bp),type='Designed promoter sequences'), \n",
    "                 cbind(melt(sample_bp2x),type='Designed promoter sequences (2x time-dilation, time-dilation start time 25%)'), \n",
    "                 cbind(melt(testseqs_bp),type='Human genome promoter sequences'))\n",
    "\n",
    "p=ggplot(plotdata) + geom_line(aes(x=Var1-512, y=value, color=Var2))+theme_Publication()+scale_colour_Publication()+\n",
    "    facet_wrap(~type,nrow=3)+xlab('Relative position (basepair)') + ylab('Proportion')\n",
    "# ggsave('./figures/seqs_bp2.pdf', device=cairo_pdf)\n",
    "p"
   ]
  },
  {
   "cell_type": "code",
   "execution_count": null,
   "metadata": {
    "scrolled": true
   },
   "outputs": [],
   "source": [
    "all_bpds = 0.\n",
    "all_items = 0\n",
    "\n",
    "min_time = timepoints[0]\n",
    "max_time = timepoints[-1]\n",
    "\n",
    "logliks = []\n",
    "loglikxs = []\n",
    "qlogs  = []\n",
    "all_bpds_l = []\n",
    "\n",
    "for batch in test_datasets:\n",
    "    cur_bpds = []\n",
    "    \n",
    "    for _ in range(10):\n",
    "        s = batch[...,4:5]\n",
    "        x = batch[...,:4]\n",
    "\n",
    "        perturbed_x, _ = diffusion_factory(x.cpu(), torch.zeros(x.shape[0]).long(), v_one, v_zero,v_one_loggrad, v_zero_loggrad, alpha, beta)\n",
    "        #perturbed_x, _ = diffusion_fast_flatdirichlet(x.cpu(), min_time, v_one, v_one_loggrad)\n",
    "\n",
    "        perturbed_x = perturbed_x.to(device)\n",
    "        x = x.to(device)\n",
    "        v = sb._inverse(x, prevent_nan=False)\n",
    "        perturbed_v = sb._inverse(perturbed_x, prevent_nan=False)\n",
    "\n",
    "        z, loglik = ode_likelihood(perturbed_v, score_model, eps=1e-8, min_time=min_time, max_time=max_time,\n",
    "                    device=device, alpha=None, beta=None, concat_input=s.cuda()) \n",
    "        N = np.prod(x.shape[1:-1]) \n",
    "        loglik = loglik / N\n",
    "        loglikx = ( torch.log(torch.clip(perturbed_x, min=1e-8)) * (x==1)).sum(-1).mean(-1)\n",
    "\n",
    "        torch.set_default_dtype(torch.float64)\n",
    "\n",
    "        with torch.no_grad():\n",
    "            qlog = jacobi_diffusion_density(v.double(), perturbed_v.double(), min_time.double(), alpha.to(device), beta.to(device), order=1000).log()\n",
    "\n",
    "        for i, (a,b) in enumerate(zip(alpha.to(device), beta.to(device))):\n",
    "            B = Beta(a, b)\n",
    "            nanmask = torch.isnan(qlog[...,i])\n",
    "            qlog[..., i][nanmask] = B.log_prob(perturbed_v[...,i][nanmask].double())\n",
    "\n",
    "        qlog = (qlog.sum(-1)+sb.log_abs_det_jacobian(perturbed_v)).float().mean(-1)\n",
    "\n",
    "        #qlog and loglikx  does not depdend on the model, so this is presampled to speed things up\n",
    "        #note this is only for this dataset and this setup\n",
    "        torch.set_default_dtype(torch.float32)\n",
    "\n",
    "        elbo = loglik + loglikx - qlog\n",
    "        logliks.append(loglik.cpu().detach().numpy())\n",
    "        loglikxs.append(loglikx.cpu().detach().numpy())\n",
    "        qlogs.append(qlog.cpu().detach().numpy())\n",
    "\n",
    "        bpd = -(elbo.cpu().detach().numpy()) / np.log(2)\n",
    "        cur_bpds.append((-(elbo.cpu().detach().numpy()) / np.log(2))[None,:])\n",
    "        all_bpds += bpd.sum()\n",
    "        all_items += bpd.shape[0]\n",
    "        print(\"Average bits: {:5f}\".format(all_bpds / all_items))\n",
    "        print(\"Average nats: {:5f}\".format(all_bpds / all_items *  np.log(2)))\n",
    "        if np.isnan(all_bpds):\n",
    "            break\n",
    "    all_bpds_l.append(np.mean(np.concatenate(cur_bpds, axis=0), axis=0))\n"
   ]
  },
  {
   "cell_type": "code",
   "execution_count": null,
   "metadata": {},
   "outputs": [],
   "source": [
    "bpds1 = np.concatenate(all_bpds_l, axis=0)"
   ]
  },
  {
   "cell_type": "code",
   "execution_count": null,
   "metadata": {},
   "outputs": [],
   "source": [
    "%%R -i exp,bpds1  -w 7.5 -h 4 --unit in --res 300\n",
    "cutp <- function(x){\n",
    "    cut(x, breaks=c(quantile(x, probs = seq(0, 1, by = 0.10))), include.lowest = T,\n",
    "    labels=c(\"0-10%\",\"10-20%\",\"20-30%\",\"30-40%\",\"40-50%\",\"50-60%\",\"60-70%\",\"70-80%\",\"80-90%\",\"90-100%\"))\n",
    "}\n",
    "qplot(cutp(exp), bpds1, geom='boxplot', notch=T, outlier.shape=NA)+\n",
    "    theme_Publication()+ylab('NLL (bits per dimension)')+xlab('Promoter expression level (percentile)')\n",
    "# ggsave('./figures/seqs_nll.pdf', device=cairo_pdf)\n"
   ]
  }
 ],
 "metadata": {
  "kernelspec": {
   "display_name": "Python 3 (ipykernel)",
   "language": "python",
   "name": "python3"
  },
  "language_info": {
   "codemirror_mode": {
    "name": "ipython",
    "version": 3
   },
   "file_extension": ".py",
   "mimetype": "text/x-python",
   "name": "python",
   "nbconvert_exporter": "python",
   "pygments_lexer": "ipython3",
   "version": "3.11.10"
  }
 },
 "nbformat": 4,
 "nbformat_minor": 4
}
